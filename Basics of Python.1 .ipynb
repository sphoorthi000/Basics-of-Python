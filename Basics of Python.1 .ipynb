{
 "cells": [
  {
   "cell_type": "markdown",
   "id": "82f9a3c0",
   "metadata": {},
   "source": [
    "# Conditions to create variables"
   ]
  },
  {
   "cell_type": "code",
   "execution_count": 1,
   "id": "b4da27ae",
   "metadata": {},
   "outputs": [],
   "source": [
    "# Variables can be the combination of alpha numerics\n",
    "# Variables can start with characters\n",
    "# Variables are case sensitive\n",
    "# Variables cannot allows special characters except underscore\n",
    "# Variables doesn't allows wide spaces(   )\n",
    "# Variables should not start with digits\n",
    "# We cannot use keyword to create variables"
   ]
  },
  {
   "cell_type": "markdown",
   "id": "aa5aa82f",
   "metadata": {},
   "source": [
    "# Valid variables"
   ]
  },
  {
   "cell_type": "code",
   "execution_count": 8,
   "id": "7c051580",
   "metadata": {},
   "outputs": [],
   "source": [
    "ab = 2\n",
    "i5 = '12th gen of DELL'\n",
    "_myclass = 'students'\n",
    "my_class = 'students'\n",
    "sphoorthi = 'name'"
   ]
  },
  {
   "cell_type": "markdown",
   "id": "637871c5",
   "metadata": {},
   "source": [
    "# Invalid variables"
   ]
  },
  {
   "cell_type": "code",
   "execution_count": 15,
   "id": "83bfb75d",
   "metadata": {},
   "outputs": [
    {
     "ename": "SyntaxError",
     "evalue": "invalid decimal literal (3504069295.py, line 4)",
     "output_type": "error",
     "traceback": [
      "\u001b[1;36m  Cell \u001b[1;32mIn[15], line 4\u001b[1;36m\u001b[0m\n\u001b[1;33m    2s = 'time'\u001b[0m\n\u001b[1;37m    ^\u001b[0m\n\u001b[1;31mSyntaxError\u001b[0m\u001b[1;31m:\u001b[0m invalid decimal literal\n"
     ]
    }
   ],
   "source": [
    "@Sphoorthi = 'name'\n",
    ".ABC = 3\n",
    "if a = 0\n",
    "2s = 'time'\n",
    "3y = 0.4"
   ]
  },
  {
   "cell_type": "markdown",
   "id": "3321fd6e",
   "metadata": {},
   "source": [
    "# Operators"
   ]
  },
  {
   "cell_type": "code",
   "execution_count": 16,
   "id": "bf9c0fa9",
   "metadata": {},
   "outputs": [
    {
     "name": "stdout",
     "output_type": "stream",
     "text": [
      "enter your value: 7537868\n",
      "enter your value: 16386\n"
     ]
    }
   ],
   "source": [
    "# Arthematic operations in dynamic method\n",
    "\n",
    "a = int(input('enter your value: '))\n",
    "b = int(input('enter your value: '))"
   ]
  },
  {
   "cell_type": "code",
   "execution_count": 18,
   "id": "81e87ce4",
   "metadata": {},
   "outputs": [],
   "source": [
    "val1 = a+b\n",
    "val2 = a-b\n",
    "val3 = a*b\n",
    "val4 = a/b\n",
    "val5 = a%b\n",
    "val6 = a//b"
   ]
  },
  {
   "cell_type": "code",
   "execution_count": 20,
   "id": "92d87b19",
   "metadata": {},
   "outputs": [
    {
     "name": "stdout",
     "output_type": "stream",
     "text": [
      "7554254\n",
      "7521482\n",
      "123515505048\n",
      "460.01879653362624\n",
      "308\n",
      "460\n"
     ]
    }
   ],
   "source": [
    "print(val1)\n",
    "print(val2)\n",
    "print(val3)\n",
    "print(val4)\n",
    "print(val5)\n",
    "print(val6)"
   ]
  },
  {
   "cell_type": "code",
   "execution_count": 21,
   "id": "525721bf",
   "metadata": {},
   "outputs": [
    {
     "name": "stdout",
     "output_type": "stream",
     "text": [
      "7554254\n"
     ]
    }
   ],
   "source": [
    "# Assignment operations\n",
    "\n",
    "a +=b\n",
    "print(a)"
   ]
  },
  {
   "cell_type": "code",
   "execution_count": 22,
   "id": "85356bf8",
   "metadata": {},
   "outputs": [
    {
     "name": "stdout",
     "output_type": "stream",
     "text": [
      "7537868\n"
     ]
    }
   ],
   "source": [
    "a -=b\n",
    "print(a)"
   ]
  },
  {
   "cell_type": "code",
   "execution_count": 23,
   "id": "978c16c6",
   "metadata": {},
   "outputs": [
    {
     "name": "stdout",
     "output_type": "stream",
     "text": [
      "123515505048\n"
     ]
    }
   ],
   "source": [
    "a *=b\n",
    "print(a)"
   ]
  },
  {
   "cell_type": "code",
   "execution_count": 24,
   "id": "de67af15",
   "metadata": {},
   "outputs": [
    {
     "name": "stdout",
     "output_type": "stream",
     "text": [
      "7537868.0\n"
     ]
    }
   ],
   "source": [
    "a /=b\n",
    "print(a)"
   ]
  },
  {
   "cell_type": "code",
   "execution_count": 25,
   "id": "c7985a77",
   "metadata": {},
   "outputs": [
    {
     "name": "stdout",
     "output_type": "stream",
     "text": [
      "308.0\n"
     ]
    }
   ],
   "source": [
    "a %=b\n",
    "print(a)"
   ]
  },
  {
   "cell_type": "code",
   "execution_count": 27,
   "id": "2e78f71b",
   "metadata": {},
   "outputs": [
    {
     "name": "stdout",
     "output_type": "stream",
     "text": [
      "0.0\n"
     ]
    }
   ],
   "source": [
    "a //=b\n",
    "print(a)"
   ]
  },
  {
   "cell_type": "code",
   "execution_count": 28,
   "id": "42eabfec",
   "metadata": {},
   "outputs": [
    {
     "name": "stdout",
     "output_type": "stream",
     "text": [
      "False\n"
     ]
    }
   ],
   "source": [
    "# Comparision operations\n",
    "\n",
    "print(a==b)"
   ]
  },
  {
   "cell_type": "code",
   "execution_count": 29,
   "id": "68c89a11",
   "metadata": {},
   "outputs": [
    {
     "name": "stdout",
     "output_type": "stream",
     "text": [
      "True\n"
     ]
    }
   ],
   "source": [
    "print(a!=b)"
   ]
  },
  {
   "cell_type": "code",
   "execution_count": 34,
   "id": "2956a2c3",
   "metadata": {},
   "outputs": [
    {
     "name": "stdout",
     "output_type": "stream",
     "text": [
      "False\n"
     ]
    }
   ],
   "source": [
    "print(a>b)"
   ]
  },
  {
   "cell_type": "code",
   "execution_count": 35,
   "id": "c54d71e9",
   "metadata": {},
   "outputs": [
    {
     "name": "stdout",
     "output_type": "stream",
     "text": [
      "True\n"
     ]
    }
   ],
   "source": [
    "print(a<b)"
   ]
  },
  {
   "cell_type": "code",
   "execution_count": 32,
   "id": "5bc8ce22",
   "metadata": {},
   "outputs": [
    {
     "name": "stdout",
     "output_type": "stream",
     "text": [
      "False\n"
     ]
    }
   ],
   "source": [
    "print(a>=b)"
   ]
  },
  {
   "cell_type": "code",
   "execution_count": 33,
   "id": "27e33bb3",
   "metadata": {},
   "outputs": [
    {
     "name": "stdout",
     "output_type": "stream",
     "text": [
      "True\n"
     ]
    }
   ],
   "source": [
    "print(a<=b)"
   ]
  },
  {
   "cell_type": "code",
   "execution_count": 37,
   "id": "4438c63d",
   "metadata": {},
   "outputs": [
    {
     "name": "stdout",
     "output_type": "stream",
     "text": [
      "True\n"
     ]
    }
   ],
   "source": [
    "# Logical operations\n",
    "\n",
    "a = 572364827\n",
    "print(a > 23797 and x < 687381797)"
   ]
  },
  {
   "cell_type": "code",
   "execution_count": 40,
   "id": "b9e23c50",
   "metadata": {},
   "outputs": [
    {
     "name": "stdout",
     "output_type": "stream",
     "text": [
      "True\n"
     ]
    }
   ],
   "source": [
    "b = -29366\n",
    "print(b > -72091 or b < -32192)"
   ]
  },
  {
   "cell_type": "code",
   "execution_count": 44,
   "id": "7dc00eae",
   "metadata": {},
   "outputs": [
    {
     "name": "stdout",
     "output_type": "stream",
     "text": [
      "True\n"
     ]
    }
   ],
   "source": [
    "c = 72098\n",
    "print(not(c > 72097 and c < 72004))"
   ]
  },
  {
   "cell_type": "markdown",
   "id": "1476ea16",
   "metadata": {},
   "source": [
    "# Type function"
   ]
  },
  {
   "cell_type": "code",
   "execution_count": 45,
   "id": "b9944959",
   "metadata": {},
   "outputs": [
    {
     "name": "stdout",
     "output_type": "stream",
     "text": [
      "<class 'str'>\n"
     ]
    }
   ],
   "source": [
    "A = 'Sphoorthi'\n",
    "print(type(A))"
   ]
  },
  {
   "cell_type": "code",
   "execution_count": 52,
   "id": "208c4fc1",
   "metadata": {},
   "outputs": [
    {
     "name": "stdout",
     "output_type": "stream",
     "text": [
      "<class 'int'>\n"
     ]
    }
   ],
   "source": [
    "B = 22\n",
    "print(type(B))"
   ]
  }
 ],
 "metadata": {
  "kernelspec": {
   "display_name": "Python 3 (ipykernel)",
   "language": "python",
   "name": "python3"
  },
  "language_info": {
   "codemirror_mode": {
    "name": "ipython",
    "version": 3
   },
   "file_extension": ".py",
   "mimetype": "text/x-python",
   "name": "python",
   "nbconvert_exporter": "python",
   "pygments_lexer": "ipython3",
   "version": "3.11.5"
  }
 },
 "nbformat": 4,
 "nbformat_minor": 5
}
